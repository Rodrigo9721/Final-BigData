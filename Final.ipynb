{
 "cells": [
  {
   "cell_type": "markdown",
   "id": "592e7f07",
   "metadata": {},
   "source": [
    "### Parte 1"
   ]
  },
  {
   "cell_type": "markdown",
   "id": "cbb0c3e9",
   "metadata": {},
   "source": [
    "#### 1. El equipo del QLAB, para el cual Ud. ahora trabaja, ha decidido comprar 100 tarjetas gráficas (GPUs) para PCs a fin de utilizarlas en computación en paralelo para investigación en Ciencias Sociales. Sabiendo de su experiencia en el tema, el director le ha pedido recomendaciones. Elabore una tabla de comparación de, por lo menos, tres tarjetas gráficas disponibles en Perú donde resuma a detalle las especificaciones de cada una de ellas. Finalmente, diga cuál y por qué le recomendaría al director. Recuerde que el precio es uno de los atributos a considerar.  (200 palabras, 3 puntos)  "
   ]
  },
  {
   "cell_type": "markdown",
   "id": "b2bfbdb2",
   "metadata": {},
   "source": []
  },
  {
   "cell_type": "markdown",
   "id": "3bd1de08",
   "metadata": {},
   "source": [
    "#### 2. Revise el artículo de Couper (2013)1 y la entrevista a Ng (2022)2. Elabore un comentario informado y crítico con sus apreciaciones sobre “Good Data & Big Data” ¿uno reemplazará al otro y por qué? ¿se pueden complementar y cómo? Dé, por lo menos dos ejemplos/ideas acordes a su argumento (500 palabras, 4 puntos)."
   ]
  },
  {
   "cell_type": "markdown",
   "id": "b11054af",
   "metadata": {},
   "source": [
    "Big Data no necesariamente es Good Data. Con la _datatificación_ de la sociedad, gran debate se ha levantado en las últimas dos décadas alrededor de la supuesta contraposición entre ambos. ¿Cuál es mejor en términos de calidad, utilidad y economicidad? En estas líneas se argumenta que, en lugar de contraponerse, se complementan y prosperan juntas. \n",
    "\n",
    "La tendencia del Big Data —extraída principalmente a través de registros administrativos, transacciones y redes sociales— ha despertado un interés por usarla en la investigación por encuestas. No obstante, como anota Cooper (2013), su creciente popularidad no debe ir en contraposición a la de las encuestas formales —que él usa casi como sinónimo de Good Data—, sino que tiene potencial para complementarla. Lo que adolece una es la fortaleza de la otra.\n",
    "\n",
    "En primer lugar, la Big Data se presta a sesgo: tanto de selección como de  medida. Además, si bien nos permite acceder a una cantidad inmensa de casos, frecuentemente solo explota pocas variables. A diferencia de esto, la Good Data, si bien es más complicada y costosa de producir, desde el proceso de diseño contempla qué variables quiere averiguar y cómo logrará que sus datos sean válidos y confiables.\n",
    "\n",
    "En segundo lugar, grandes masas de datos no generan mejores predicciones, precisamente. Ng (2022) reconoce que casos menos numerosos —_small data_—, pero correctamente escogidos —él los denomina _engineered cases_— pueden construir sistemas de AI valiosos. Esto es más eficiente y económico porque muchas organizaciones no tienen bases de datos tan grandes. \n",
    "\n",
    "En tercer lugar, existe un tema ético. Las empresas reconstruyen nuestro perfil online y lo usufructúan, ya sea para venderlos en bases de datos, usarlos para marketing, etc. Esto nos convierte en productos. Como consecuencia, los usuarios cada vez más optamos por no usar dichas redes o solicitar que no se realice seguimiento (_tracking_). Por el contrario, las encuestas tienen protocolos éticos y pretenden ser transparentes con los propósitos del estudio. \n",
    "\n",
    "Así, la Big Data no es la panacea, pero tampoco un mar de defectos. La información que no se puede recopilar por encuestas poblaciones puede encontrarse en registros administrativos, transaccionales o redes sociales. Al fin y al cabo, ¿por qué incluir en un cuestionario lo que se puede averiguar por otro medios? Además, esta tendencia nos enseña a sintonizar con los estilos de vida de los participantes. Como investigadores, ya no podemos permitir encuestas tan largas. \n",
    "\n",
    "Por estas y más razones, se debe relevar el uso de ambos tipos de datos. La recolección mixta de estos, siempre que no se pierda el foco en su calidad, no puede más que traer beneficios a la labor del investigador. Por un lado, las técnicas de ciencia de datos como el _deep learning_ se sanarían de sesgos si usamos data curada a consciencia. Por otro, las encuestas poblacionales pueden ser complementadas con información de Big Data, y abordar, entre ambos, muchos más casos y muchas más variables."
   ]
  },
  {
   "cell_type": "markdown",
   "id": "519c2f87",
   "metadata": {},
   "source": [
    "#### 3. Al trabajar la parte II de esta tarea seguramente encontrará varias dificultades de código o sustanciales (teoría ML). Seleccione la más interesante y que aún no haya podido resolver sin ayuda. Elabore un post sobre esta duda en alguno de los portales de preguntas (StackOverflow, StackExchange, GitHub Issues), y monitoree las respuestas. Asegúrese de publicar una pregunta no trivial, de leer el manual de etiqueta del portal1 y mantener el post autocontenido. No se olvide que otros usuarios están invirtiendo su tiempo libre en ayudarlo: interactúe respetuosamente con ellos, repregunte si es necesario y, de ser posible, incluya la solución en su código. Presente como respuesta el link al portal de su pregunta. Esta debe tener una antigüedad mayor a 48 horas respecto de la entrega de la tarea. (1 punto)"
   ]
  },
  {
   "cell_type": "markdown",
   "id": "0c7c9ad9",
   "metadata": {},
   "source": [
    "Se realizaron dos preguntas:\n",
    "\n",
    "- https://stackoverflow.com/questions/72833509/xgboosterror-need-to-call-fit-or-load-model-beforehand-train-a-model-with-das\n",
    "- https://stackoverflow.com/questions/72826975/i-am-working-with-dask-what-are-the-advantages-of-using-datashader-for-the-data"
   ]
  },
  {
   "cell_type": "markdown",
   "id": "2fb20b6f",
   "metadata": {},
   "source": [
    "### Parte 2"
   ]
  },
  {
   "cell_type": "markdown",
   "id": "1ac53224",
   "metadata": {},
   "source": [
    "#### 1. Presentación del problema de predicción que se desea realizar (por ejemplo, predecir la vulnerabilidad de los hogares en el Perú). Defina claramente qué datos utilizara, cuál es su variable target y cuáles sus predictores."
   ]
  },
  {
   "cell_type": "markdown",
   "id": "ca538926",
   "metadata": {},
   "source": [
    "Este modelo de machine learning hallará cuáles son las características del hogar y de la vivienda que explican la prevalencia de anemia en el Perú. Para ello, se usarán los datos de la Encuesta Demográfica y de Salud Familiar - ENDES del 2021.\n",
    "\n",
    "En específico, la variable target (o variable *y*) es la *V457*,  descrita como *Nivel de anemia* en el cuestionario individual (REC42), del módulo 1634, *Inmunización y Salud*.  \n",
    "Como predictores se emplearán las variables:  \n",
    "- Módulo 1629\n",
    "  - RECH1  \n",
    "      - HV107, ¿Cuál fue el año o grado más alto que aprobó?  \n",
    "      - HV106, ¿Cuál fue el nivel de estudios más alto que aprobó?  \n",
    "      - QH25A, ¿Cuál es su nacionalidad?  \n",
    "  - RECH4  \n",
    "      - SH11A, Seguro de salud: ESSALUD/IPSS  \n",
    "      - SH11B, Seguro de salud: Militar  \n",
    "      - SH11C, Seguro de salud: Integral  \n",
    "      - SH11D, Seguro de salud: Compañía de seguros  \n",
    "      - SH11E, Seguro de salud: Seguro privado  \n",
    "      - SH11Y, Seguro de salud: No sabe  \n",
    "      - SH11Z, Seguro de salud: No tienen  \n",
    "      - SH15N, Nivel de educación aprobado\n",
    "- Módulo 1630  \n",
    "  - RECH23  \n",
    "      - HV201, ¿Cuál es la fuente principal de abastecimiento de agua para tomar o beber?  \n",
    "      - HV202, ¿Cuál es la fuente principal de abastecimiento de agua en su hogar?  \n",
    "      - HV205, ¿Qué tipo de servicio higiénico tiene su hogar?  \n",
    "      - HV206, ¿Tiene electricidad en su hogar?  \n",
    "      - HV207, Su hogar ¿tiene radio?  \n",
    "      - HV208, Su hogar ¿tiene televisor?  \n",
    "      - HV209, Su hogar ¿tiene refrigeradora /congeladora?  \n",
    "      - HV213, Material predominante del piso de la vivienda  \n",
    "      - HV214. Material predominante de las paredes exteriores de la vivienda  \n",
    "      - HV215, Material predominante del techo de la vivienda  \n",
    "      - HV219, Sexo del jefe de hogar  \n",
    "      - HV221, Su hogar ¿tiene teléfono?  \n",
    "      - HV243A, ¿Tiene un teléfono móvil (celular)?  \n",
    "      - SHREGION, Región natural  \n",
    "      - SH42, El abastecimiento de agua para beber está disponible todo el día  \n",
    "      - SH61K, ¿Tiene licuadora?  \n",
    "      - SH61L, ¿Tiene cocina de gas?  \n",
    "      - SH61M, ¿Tiene cocina de kerosene?  \n",
    "      - SH61N, ¿Tiene microondas?  \n",
    "      - SH610, ¿Tiene lavadora?  \n",
    "      - SH61P, ¿Tiene computadora?  \n",
    "      - SH61Q, ¿Tiene acceso a Internet en casa?  \n",
    "      - SH61R, ¿Tiene bomba de agua?  \n",
    "      - SH61S, ¿Tiene generador de electricidad?  \n",
    "\n",
    "Estas bases de datos fueron extraídas de [PERÚ Instituto Nacional de Estadística e Informática](http://iinei.inei.gob.pe/microdatos/Consulta_por_Documentos.asp). \n",
    "\n",
    "Dichas variables de hogar y vivienda fueron seleccionadas por la bibliografía revisada. Diversos estudios (Bello-Manga et al., 2020; N. Ford et al., 2020; N. D. Ford et al., 2022; Kikafunda et al., 2009; Palacios-Rodríguez et al., 2019; Prieto-Patron et al., 2018) encuentran que factores como la calidad del piso de la vivienda, nivel de educación formal de la madre, riqueza de la familia, etc. están asociados a anemia en distintos grupos etarios en países como México, Nepal,  Nigeria, Uganda, entre otros. "
   ]
  },
  {
   "cell_type": "markdown",
   "id": "eb4ed5e9",
   "metadata": {},
   "source": [
    "#### 2. Describa los pasos a realizar para su aplicación de ML"
   ]
  },
  {
   "cell_type": "markdown",
   "id": "171b137e",
   "metadata": {},
   "source": [
    "- Tratamiento de las bases de datos y unificación de las variables correspondientes a los módulos 1629, 1630 y 1634 de la ENDES 2021.\n",
    "- Creación del cliente de Dask para visualizar los procesos.\n",
    "- Selección de variables y separación de la base de datos para el entrenamiento y el testeo utilizando Dask.\n",
    "- Definir el modelo a utilizar (RandomForestClassifier) y el diccionario con los hiperparámetros a evaluar con GridSearchCV.\n",
    "- Establecer un fold para utilizarlo como generador de cross validation dentro de GridSearch.\n",
    "- Realizar el entrenamiento del modelo y seleccionar los hiperparámetros óptimos utilizando la paralelización de Dask con GridSearch.\n",
    "- Evaluar el rendimiento del modelo utilizando Accuracy y AUC."
   ]
  },
  {
   "cell_type": "markdown",
   "id": "64c3e259",
   "metadata": {},
   "source": [
    "####  3. Describa cómo llevaría a cabo este ejercicio de manera serial y compárelo a su aplicación serial. Como parte de esta descripción, incluir los siguientes aspectos: \n",
    "\n",
    "        a. Explicar qué partes del ejercicio se harán de forma serial y por qué no paralelizo estas tareas.\n",
    "        b. Para las tareas en paralelo, explique usando el método de Foster como se dan las etapas de partición, comunicación, aglomeración y mapeo (PCAM) para su aplicación.\n",
    "        c. Discuta qué tipos de procesadores podría utilizar para cada parte. (No es necesario que utilice los GPU pese a que señale su mejor desempeño)\n",
    "        d. Identificar los cuellos de botella del ejercicio y comente hasta qué punto la paralelización puede ayudar a resolverlos."
   ]
  },
  {
   "cell_type": "markdown",
   "id": "8b133329",
   "metadata": {},
   "source": []
  },
  {
   "cell_type": "markdown",
   "id": "b115b9e2",
   "metadata": {},
   "source": [
    "#### 4. Uso de Dask"
   ]
  },
  {
   "cell_type": "markdown",
   "id": "02fa40d3",
   "metadata": {},
   "source": [
    "#### b. Implementación de Machine Learning"
   ]
  },
  {
   "cell_type": "markdown",
   "id": "9af8d5d1",
   "metadata": {},
   "source": [
    "%pip install -U tornado\n",
    "%pip install \"dask[complete]\"\n",
    "!python -m pip install dask[dataframe] --upgrade\n",
    "!conda install python-graphviz\n",
    "%pip install dask-ml\n",
    "%pip install bokeh\n",
    "%pip install dask-xgboost"
   ]
  },
  {
   "cell_type": "markdown",
   "id": "eff36a2f",
   "metadata": {},
   "source": [
    "!pip install dask-cuda"
   ]
  },
  {
   "cell_type": "code",
   "execution_count": 1,
   "id": "cff27527",
   "metadata": {},
   "outputs": [],
   "source": [
    "import dask.dataframe as dd\n",
    "from dask_ml.model_selection import train_test_split\n",
    "from dask_ml.model_selection import GridSearchCV\n",
    "import numpy as np\n",
    "from dask.distributed import Client, progress\n",
    "from sklearn.ensemble import RandomForestClassifier\n",
    "from sklearn.metrics import roc_curve\n",
    "from sklearn.metrics import roc_auc_score\n",
    "from sklearn.metrics import confusion_matrix\n",
    "import matplotlib.pyplot\n",
    "from sklearn.model_selection import RepeatedKFold\n",
    "from dask_cuda import LocalCUDACluster\n",
    "from dask.utils import parse_bytes"
   ]
  },
  {
   "cell_type": "code",
   "execution_count": 2,
   "id": "fc1cefbd",
   "metadata": {},
   "outputs": [
    {
     "data": {
      "text/html": [
       "<table style=\"border: 2px solid white;\">\n",
       "<tr>\n",
       "<td style=\"vertical-align: top; border: 0px solid white\">\n",
       "<h3 style=\"text-align: left;\">Client</h3>\n",
       "<ul style=\"text-align: left; list-style: none; margin: 0; padding: 0;\">\n",
       "  <li><b>Scheduler: </b>tcp://127.0.0.1:63850</li>\n",
       "  <li><b>Dashboard: </b><a href='http://127.0.0.1:8787/status' target='_blank'>http://127.0.0.1:8787/status</a></li>\n",
       "</ul>\n",
       "</td>\n",
       "<td style=\"vertical-align: top; border: 0px solid white\">\n",
       "<h3 style=\"text-align: left;\">Cluster</h3>\n",
       "<ul style=\"text-align: left; list-style:none; margin: 0; padding: 0;\">\n",
       "  <li><b>Workers: </b>5</li>\n",
       "  <li><b>Cores: </b>20</li>\n",
       "  <li><b>Memory: </b>34.09 GB</li>\n",
       "</ul>\n",
       "</td>\n",
       "</tr>\n",
       "</table>"
      ],
      "text/plain": [
       "<Client: 'tcp://127.0.0.1:63850' processes=5 threads=20, memory=34.09 GB>"
      ]
     },
     "execution_count": 2,
     "metadata": {},
     "output_type": "execute_result"
    }
   ],
   "source": [
    "client = Client()\n",
    "client"
   ]
  },
  {
   "cell_type": "code",
   "execution_count": 10,
   "id": "afb55f98",
   "metadata": {},
   "outputs": [],
   "source": [
    "data = dd.read_csv('base_anemia_final.csv', storage_options={'anon': True})"
   ]
  },
  {
   "cell_type": "code",
   "execution_count": 11,
   "id": "47371477",
   "metadata": {},
   "outputs": [],
   "source": [
    "X = data.drop('anemia', axis=1)\n",
    "y = data['anemia']\n",
    "X_train, X_test, y_train, y_test = train_test_split(X, y, test_size=0.2, random_state=143, shuffle=True)"
   ]
  },
  {
   "cell_type": "code",
   "execution_count": 12,
   "id": "33a69710",
   "metadata": {},
   "outputs": [],
   "source": [
    "model = RandomForestClassifier()\n",
    "params = {\n",
    "    'max_depth':[1, 3, 5, 7, 9],\n",
    "    'n_estimators':np.arange(50, 500, 50),\n",
    "    'max_features':['sqrt', 'log2', None]\n",
    "}"
   ]
  },
  {
   "cell_type": "code",
   "execution_count": 6,
   "id": "ccb33b3a",
   "metadata": {},
   "outputs": [
    {
     "name": "stdout",
     "output_type": "stream",
     "text": [
      "Best: 0.803729 using {'max_depth': 9, 'max_features': None, 'n_estimators': 200}\n"
     ]
    }
   ],
   "source": [
    "cv = RepeatedKFold(n_splits=10, n_repeats=3, random_state=1)\n",
    "search = GridSearchCV(model, params, cv = cv)\n",
    "result = search.fit(X_train, y_train)\n",
    "print(\"Best: %f using %s\" % (result.best_score_, result.best_params_))"
   ]
  },
  {
   "cell_type": "code",
   "execution_count": 7,
   "id": "84de0314",
   "metadata": {},
   "outputs": [
    {
     "name": "stdout",
     "output_type": "stream",
     "text": [
      "Accuracy Test Dataset [0.8019914007694049]\n",
      "Accuracy Train Dataset [0.8159702013735305]\n"
     ]
    }
   ],
   "source": [
    "acc_test = [result.score(X_test, y_test)]\n",
    "acc_train = [result.score(X_train, y_train)]\n",
    "print('Accuracy Test Dataset',acc_test)\n",
    "print('Accuracy Train Dataset',acc_train)"
   ]
  },
  {
   "cell_type": "code",
   "execution_count": 8,
   "id": "bb148450",
   "metadata": {},
   "outputs": [
    {
     "name": "stdout",
     "output_type": "stream",
     "text": [
      "AUC Score: 0.5671536386137346\n"
     ]
    }
   ],
   "source": [
    "probs = result.predict_proba(X_test)\n",
    "probs = probs[:,1]\n",
    "acc_auc = roc_auc_score(y_test, probs)\n",
    "print('AUC Score:', acc_auc)\n",
    "fpr, tpr, thresh = roc_curve(y_test, probs)"
   ]
  },
  {
   "cell_type": "code",
   "execution_count": 9,
   "id": "e6d4d7e0",
   "metadata": {},
   "outputs": [
    {
     "data": {
      "image/png": "[encoded data removed]",
      "text/plain": [
       "<Figure size 432x288 with 1 Axes>"
      ]
     },
     "metadata": {
      "needs_background": "light"
     },
     "output_type": "display_data"
    }
   ],
   "source": [
    "matplotlib.pyplot.xlabel(\"False Positive Rate\")\n",
    "matplotlib.pyplot.ylabel(\"True Positive Rate\")\n",
    "matplotlib.pyplot.plot([0,1], [0,1], 'r--')\n",
    "matplotlib.pyplot.xlim([-0.05, 1.05])\n",
    "matplotlib.pyplot.ylim([-0.05, 1.05])\n",
    "matplotlib.pyplot.title(\" Gráfico 2: Curva ROC - Modelo de Comportamiento\")\n",
    "matplotlib.pyplot.plot(fpr, tpr, label = \"Random Forest Model\", color = \"black\")\n",
    "matplotlib.pyplot.legend(loc = \"lower right\")\n",
    "matplotlib.pyplot.show()"
   ]
  },
  {
   "cell_type": "markdown",
   "id": "0677265e",
   "metadata": {},
   "source": [
    "### Bibliografía"
   ]
  },
  {
   "cell_type": "markdown",
   "id": "cc4d7a11",
   "metadata": {},
   "source": [
    "Bello-Manga, H., Galadanci, A. A., Abdullahi, S., Ali, S., Jibir, B., Gambo, S., Haliru, L., Jordan, L. C., Aliyu, M. H., Rodeghier, M., Kassim, A. A., DeBaun, M. R., & Galadanci, N. A. (2020). Low educational level of head of household, as a proxy for poverty, is associated with severe anaemia among children with sickle cell disease living in a low-resource setting: Evidence from the SPRING trial. British Journal of Haematology, 190(6), 939–944. https://doi.org/10.1111/bjh.16746\n",
    "\n",
    "Couper, M. P. (s/f). Is the Sky Falling? New Technology, Changing Media, and the Future of Surveys. 12.\n",
    "\n",
    "Ford, N., Bichha, R. P., Parajuli, K., Paudyal, N., Joshi, N., Whitehead, R., Chitekwe, S., Mei, Z., Flores-Ayala, R., Adhikari, D., Rijal, S., & Jefferds, M. (2020). Factors associated with anaemia among adolescent boys and girls 10–19 years old in Nepal. Maternal & child nutrition. https://doi.org/10.1111/mcn.13013\n",
    "\n",
    "Ford, N. D., Bichha, R. P., Parajuli, K. R., Paudyal, N., Joshi, N., Whitehead Jr, R. D., Chitekwe, S., Mei, Z., Flores-Ayala, R., Adhikari, D. P., Rijal, S., & Jefferds, M. E. (2022). Factors associated with anaemia in a nationally representative sample of nonpregnant women of reproductive age in Nepal. Maternal & Child Nutrition, 18(S1), e12953. https://doi.org/10.1111/mcn.12953\n",
    "\n",
    "Kikafunda, J., Lukwago, F. B., & Turyashemererwa, F. (2009). Anaemia and associated factors among under-fives and their mothers in Bushenyi district, Western Uganda. Public Health Nutrition. https://doi.org/10.1017/S1368980009005333\n",
    "\n",
    "Palacios-Rodríguez, G. O., Mundo-Rosas, V., Parra-Cabrera, S., García-Guerra, A., Galindo-Gómez, C., & Gómez-Humaran, I. M. (2019). Household food insecurity and its association with anaemia in Mexican children: National Health and Nutrition Survey 2012. International Journal of Public Health. https://doi.org/10.1007/s00038-019-01305-1\n",
    "\n",
    "Prieto-Patron, A., Van der Horst, K., Hutton, Z., & Detzel, P. (2018). Association between Anaemia in Children 6 to 23 Months Old and Child, Mother, Household and Feeding Indicators. Nutrients, 10(9), 1269. https://doi.org/10.3390/nu10091269\n",
    "\n",
    "Strickland, E. (2022, febrero 9). Andrew Ng: Unbiggen AI. IEEE Spectrum. https://spectrum.ieee.org/andrew-ng-data-centric-ai"
   ]
  }
 ],
 "metadata": {
  "kernelspec": {
   "display_name": "Python 3",
   "language": "python",
   "name": "python3"
  },
  "language_info": {
   "codemirror_mode": {
    "name": "ipython",
    "version": 3
   },
   "file_extension": ".py",
   "mimetype": "text/x-python",
   "name": "python",
   "nbconvert_exporter": "python",
   "pygments_lexer": "ipython3",
   "version": "3.6.13"
  }
 },
 "nbformat": 4,
 "nbformat_minor": 5
}
