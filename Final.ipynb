{
 "cells": [
  {
   "cell_type": "markdown",
   "id": "592e7f07",
   "metadata": {},
   "source": [
    "### Parte 1"
   ]
  },
  {
   "cell_type": "markdown",
   "id": "cbb0c3e9",
   "metadata": {},
   "source": [
    "#### 1. El equipo del QLAB, para el cual Ud. ahora trabaja, ha decidido comprar 100 tarjetas gráficas (GPUs) para PCs a fin de utilizarlas en computación en paralelo para investigación en Ciencias Sociales. Sabiendo de su experiencia en el tema, el director le ha pedido recomendaciones. Elabore una tabla de comparación de, por lo menos, tres tarjetas gráficas disponibles en Perú donde resuma a detalle las especificaciones de cada una de ellas. Finalmente, diga cuál y por qué le recomendaría al director. Recuerde que el precio es uno de los atributos a considerar.  (200 palabras, 3 puntos)  "
   ]
  },
  {
   "cell_type": "markdown",
   "id": "b2bfbdb2",
   "metadata": {},
   "source": []
  },
  {
   "cell_type": "markdown",
   "id": "3bd1de08",
   "metadata": {},
   "source": [
    "#### 2. Revise el artículo de Couper (2013)1 y la entrevista a Ng (2022)2. Elabore un comentario informado y crítico con sus apreciaciones sobre “Good Data & Big Data” ¿uno reemplazará al otro y por qué? ¿se pueden complementar y cómo? Dé, por lo menos dos ejemplos/ideas acordes a su argumento (500 palabras, 4 puntos)."
   ]
  },
  {
   "cell_type": "markdown",
   "id": "b11054af",
   "metadata": {},
   "source": [
    "La tendencia del Big Data —extraída principalmente a través de registros administrativos, transacciones y redes sociales— ha despertado un interés por usarla en la investigación de temas poblacionales. No obstante, como anota Cooper (2013), su creciente popularidad no debe ir en contraposición a la de las encuestas formales —que él usa casi como sinónimas de Good Data—. ¿Cuál es mejor en términos de calidad, utilidad y economicidad? En estas líneas se argumenta que, en lugar de contraponerse, se complementan y prosperan juntas: lo que adolece una es la fortaleza de la otra.\n",
    "\n",
    "En primer lugar, la Big Data se presta a sesgo: tanto de selección como de  medida. Además, si bien nos permite acceder a una cantidad inmensa de casos, frecuentemente solo explota pocas variables. A diferencia de ello, la Good Data desde el proceso de su diseño mismo contempla qué variables quiere averiguar y cómo logrará que sus datos sean válidos y confiables. No obstante, es más complicada y costosa de producir.\n",
    "\n",
    "En segundo lugar, grandes masas de datos no generan mejores predicciones, precisamente. Ng (2022) reconoce que casos menos numerosos —_small data_—, pero correctamente escogidos —él los denomina _engineered cases_— pueden construir sistemas de AI valiosos. Esto es más eficiente y económico porque muchas organizaciones no tienen bases de datos tan grandes. \n",
    "\n",
    "En tercer lugar, existe un tema ético. Las empresas reconstruyen nuestro perfil online y lo usufructúan, ya sea para venderlos en bases de datos, usarlos para marketing, etc. Esto nos convierte en productos. Como consecuencia, los usuarios cada vez más optamos por no usar dichas redes o solicitar que no se realice seguimiento (_tracking_). Por el contrario, las encuestas serias tienen protocolos éticos y pretenden ser transparentes con los propósitos del estudio. \n",
    "\n",
    "Así, la Big Data no es la panacea, pero tampoco un mar de defectos. La información que no se puede recopilar por encuestas poblaciones puede encontrarse en forma de Big Data, en registros administrativos, transaccionales o redes sociales. Al fin y al cabo, ¿por qué incluir en un cuestionario lo que se puede averiguar por otro medios? Asimismo, esta tendencia nos enseña a sintonizar con los estilos de vida de los participantes: como investigadores ya no podemos permitir encuestas tan largas y monótonas.\n",
    "\n",
    "Por estas y más razones, se debe relevar el uso de ambos tipos de datos. La recolección mixta de estos, siempre que no se pierda el foco en su calidad, su ética y el para qué las necesitamos, no puede más que traer beneficios a la labor del investigador. Por un lado, las técnicas de ciencia de datos como el _deep learning_ se sanarían de sesgos si usamos data curada a consciencia. Por otro, las encuestas poblacionales pueden ser complementadas con información de Big Data, y abordar, entre ambos, muchos más casos y muchas más variables."
   ]
  },
  {
   "cell_type": "markdown",
   "id": "519c2f87",
   "metadata": {},
   "source": [
    "#### 3. Al trabajar la parte II de esta tarea seguramente encontrará varias dificultades de código o sustanciales (teoría ML). Seleccione la más interesante y que aún no haya podido resolver sin ayuda. Elabore un post sobre esta duda en alguno de los portales de preguntas (StackOverflow, StackExchange, GitHub Issues), y monitoree las respuestas. Asegúrese de publicar una pregunta no trivial, de leer el manual de etiqueta del portal1 y mantener el post autocontenido. No se olvide que otros usuarios están invirtiendo su tiempo libre en ayudarlo: interactúe respetuosamente con ellos, repregunte si es necesario y, de ser posible, incluya la solución en su código. Presente como respuesta el link al portal de su pregunta. Esta debe tener una antigüedad mayor a 48 horas respecto de la entrega de la tarea. (1 punto)"
   ]
  },
  {
   "cell_type": "markdown",
   "id": "0c7c9ad9",
   "metadata": {},
   "source": [
    "Se realizaron dos preguntas:\n",
    "\n",
    "- https://stackoverflow.com/questions/72833509/xgboosterror-need-to-call-fit-or-load-model-beforehand-train-a-model-with-das\n",
    "- https://stackoverflow.com/questions/72826975/i-am-working-with-dask-what-are-the-advantages-of-using-datashader-for-the-data"
   ]
  },
  {
   "cell_type": "markdown",
   "id": "2fb20b6f",
   "metadata": {},
   "source": [
    "### Parte 2"
   ]
  },
  {
   "cell_type": "markdown",
   "id": "1ac53224",
   "metadata": {},
   "source": [
    "#### 1. Presentación del problema de predicción que se desea realizar (por ejemplo, predecir la vulnerabilidad de los hogares en el Perú). Defina claramente qué datos utilizara, cuál es su variable target y cuáles sus predictores."
   ]
  },
  {
   "cell_type": "markdown",
   "id": "ca538926",
   "metadata": {},
   "source": [
    "Este modelo de machine learning hallará cuáles son las características del hogar y de la vivienda que explican la prevalencia de anemia en el Perú. Para ello, se usarán los datos de la Encuesta Demográfica y de Salud Familiar - ENDES del 2021.\n",
    "\n",
    "En específico, la variable target (o variable *y*) es la *V457*,  descrita como *Nivel de anemia* en el cuestionario individual (REC42), del módulo 1634, *Inmunización y Salud*.  \n",
    "Como predictores se emplearán las variables:  \n",
    "- Módulo 1629\n",
    "  - RECH1  \n",
    "      - HV107, ¿Cuál fue el año o grado más alto que aprobó?  \n",
    "      - HV106, ¿Cuál fue el nivel de estudios más alto que aprobó?  \n",
    "      - QH25A, ¿Cuál es su nacionalidad?  \n",
    "  - RECH4  \n",
    "      - SH11A, Seguro de salud: ESSALUD/IPSS  \n",
    "      - SH11B, Seguro de salud: Militar  \n",
    "      - SH11C, Seguro de salud: Integral  \n",
    "      - SH11D, Seguro de salud: Compañía de seguros  \n",
    "      - SH11E, Seguro de salud: Seguro privado  \n",
    "      - SH11Y, Seguro de salud: No sabe  \n",
    "      - SH11Z, Seguro de salud: No tienen  \n",
    "      - SH15N, Nivel de educación aprobado\n",
    "- Módulo 1630  \n",
    "  - RECH23  \n",
    "      - HV201, ¿Cuál es la fuente principal de abastecimiento de agua para tomar o beber?  \n",
    "      - HV202, ¿Cuál es la fuente principal de abastecimiento de agua en su hogar?  \n",
    "      - HV205, ¿Qué tipo de servicio higiénico tiene su hogar?  \n",
    "      - HV206, ¿Tiene electricidad en su hogar?  \n",
    "      - HV207, Su hogar ¿tiene radio?  \n",
    "      - HV208, Su hogar ¿tiene televisor?  \n",
    "      - HV209, Su hogar ¿tiene refrigeradora /congeladora?  \n",
    "      - HV213, Material predominante del piso de la vivienda  \n",
    "      - HV214. Material predominante de las paredes exteriores de la vivienda  \n",
    "      - HV215, Material predominante del techo de la vivienda  \n",
    "      - HV219, Sexo del jefe de hogar  \n",
    "      - HV221, Su hogar ¿tiene teléfono?  \n",
    "      - HV243A, ¿Tiene un teléfono móvil (celular)?  \n",
    "      - SHREGION, Región natural  \n",
    "      - SH42, El abastecimiento de agua para beber está disponible todo el día  \n",
    "      - SH61K, ¿Tiene licuadora?  \n",
    "      - SH61L, ¿Tiene cocina de gas?  \n",
    "      - SH61M, ¿Tiene cocina de kerosene?  \n",
    "      - SH61N, ¿Tiene microondas?  \n",
    "      - SH610, ¿Tiene lavadora?  \n",
    "      - SH61P, ¿Tiene computadora?  \n",
    "      - SH61Q, ¿Tiene acceso a Internet en casa?  \n",
    "      - SH61R, ¿Tiene bomba de agua?  \n",
    "      - SH61S, ¿Tiene generador de electricidad?  \n",
    "\n",
    "Estas bases de datos fueron extraídas de [PERÚ Instituto Nacional de Estadística e Informática](http://iinei.inei.gob.pe/microdatos/Consulta_por_Documentos.asp). \n",
    "\n",
    "Dichas variables de hogar y vivienda fueron seleccionadas por la bibliografía revisada. Diversos estudios (Bello-Manga et al., 2020; N. Ford et al., 2020; N. D. Ford et al., 2022; Kikafunda et al., 2009; Palacios-Rodríguez et al., 2019; Prieto-Patron et al., 2018) encuentran que factores como la calidad del piso de la vivienda, nivel de educación formal de la madre, riqueza de la familia, etc. están asociados a anemia en distintos grupos etarios en países como México, Nepal,  Nigeria, Uganda, entre otros. "
   ]
  },
  {
   "cell_type": "markdown",
   "id": "eb4ed5e9",
   "metadata": {},
   "source": [
    "#### 2. Describa los pasos a realizar para su aplicación de ML"
   ]
  },
  {
   "cell_type": "markdown",
   "id": "171b137e",
   "metadata": {},
   "source": [
    "- Tratamiento de las bases de datos y unificación de las variables correspondientes a los módulos 1629, 1630 y 1634 de la ENDES 2021.\n",
    "- Creación del cliente de Dask para visualizar los procesos.\n",
    "- Selección de variables y separación de la base de datos para el entrenamiento y el testeo utilizando Dask.\n",
    "- Definir el modelo a utilizar (RandomForestClassifier) y el diccionario con los hiperparámetros a evaluar con GridSearchCV.\n",
    "- Establecer un fold para utilizarlo como generador de cross validation dentro de GridSearch.\n",
    "- Realizar el entrenamiento del modelo y seleccionar los hiperparámetros óptimos utilizando la paralelización de Dask con GridSearch.\n",
    "- Evaluar el rendimiento del modelo utilizando Accuracy y AUC."
   ]
  },
  {
   "cell_type": "markdown",
   "id": "64c3e259",
   "metadata": {},
   "source": [
    "####  3. Describa cómo llevaría a cabo este ejercicio de manera serial y compárelo a su aplicación serial. Como parte de esta descripción, incluir los siguientes aspectos: \n",
    "a. Explicar qué partes del ejercicio se harán de forma serial y por qué no paralelizo estas tareas.\n",
    "\n",
    "b. Para las tareas en paralelo, explique usando el método de Foster como se dan las etapas de partición, comunicación, aglomeración y mapeo (PCAM) para su aplicación.\n",
    "\n",
    "c. Discuta qué tipos de procesadores podría utilizar para cada parte. (No es necesario que utilice los GPU pese a que señale su mejor desempeño)\n",
    "\n",
    "d. Identificar los cuellos de botella del ejercicio y comente hasta qué punto la paralelización puede ayudar a resolverlos."
   ]
  },
  {
   "cell_type": "markdown",
   "id": "utility-assumption",
   "metadata": {},
   "source": [
    "a. \n",
    "La parte serial del ejercicio radica inicialmente en la creacion de la base de datos para utilizar en el modelo Random Forest. Dentro de las distintos metodos utilizados para armar el DataFrame, se encuentra los merge de las distintas bases de datos y poseterior filtrado de variables y muestra de los estadisticos de la base final. Estas tareas no seran paralelizadas, pues se necesita un resultado previo para poder continuar en el armado de la base de datos."
   ]
  },
  {
   "cell_type": "markdown",
   "id": "rolled-monday",
   "metadata": {},
   "source": [
    "b. Dado que el modelo utilizado es un Random Forest, este modelo construye las ramas de forma independiente usando una muestra aleatoria de la data, entonces esta tarea es paralelizada\n",
    "El método de Foster es una forma de pensar en como es mejor una paralelización \n",
    "Esto se estructurará en el método de Foster en cuatro momentos PCAM.\n",
    "Tenemos un problema:\n",
    "1.\tSe particiona el problema, se divide las tareas de computación y la data donde se hará en pequeñas tareas\n",
    "2.\tCada partición se comunica entre los procesadores, cada procesador agarra un pedazo de la data que se va utilizar. Se determina que comunicación es necesaria entre las tareas, no queremos que los procesadores se comuniquen entre ellos a menos que sea necesario. Finalmente, se buscará la configuración optima del modelo a todas las tareas predictivas.\n",
    "3.\tSe aglomeran las tareas, yo puedo juntar algunos procesadores para que trabajen distintas tareas. Querremos combinar las áreas y comunicaciones identificadas en una tarea mas grande.\n",
    "4.\tEn este paso se asigna las tareas compuestas a los procesadores. Se mapea y se obtiene el resultado final\n"
   ]
  },
  {
   "cell_type": "markdown",
   "id": "liked-canyon",
   "metadata": {},
   "source": [
    "c. \n",
    "Dado que no se llego a 1 gb de uso de memoria, no es necesario un procesador de muy alto rendimiento, sin embargo fueron utilizados 5 threads para el modelo. por ende el procesador tendria que tener no mucha memoria pero si minimo 6 threads. El procesador utilizado localmente cumple los requisitos con exceso,."
   ]
  },
  {
   "cell_type": "markdown",
   "id": "consecutive-renaissance",
   "metadata": {},
   "source": [
    "e.\n",
    "Los cuellos de botella son superados gracias a la paralelizacion en la busqueda de los mejores parametros, dado que son un set de valores que deben ser probados simultaneamente, la paralelizacion aligera el tiempo de resolucion al momento de utilizar mas procesadores para el analisis."
   ]
  },
  {
   "cell_type": "markdown",
   "id": "b115b9e2",
   "metadata": {},
   "source": [
    "#### 4. Uso de Dask"
   ]
  },
  {
   "cell_type": "markdown",
   "id": "9613fc2a",
   "metadata": {},
   "source": [
    "La base usada y este mismo Jupyter Notebook pueden encontrarse en este repositorio de GitHub: https://github.com/Rodrigo9721/Final-BigData"
   ]
  },
  {
   "cell_type": "code",
   "execution_count": 2,
   "id": "official-profession",
   "metadata": {},
   "outputs": [],
   "source": [
    "import dask.dataframe as dd\n",
    "import os\n",
    "os.chdir(r'C:\\Users\\User\\Desktop\\DIPLOMADO\\bigdata\\trabajo_final_bigdata')"
   ]
  },
  {
   "cell_type": "code",
   "execution_count": 3,
   "id": "classical-kingston",
   "metadata": {},
   "outputs": [],
   "source": [
    "df_1629_1 = dd.read_csv(\"RECH1.csv\",encoding='latin-1')\n",
    "df_1629_2 = dd.read_csv(\"RECH4.csv\",encoding='latin-1')\n",
    "df_1630 = dd.read_csv(\"RECH23.csv\",encoding='latin-1')\n",
    "df_DIT= dd.read_csv(\"DIT_c.csv\",encoding='latin-1')\n",
    "df_anemia = dd.read_csv(\"REC42_c.csv\",encoding='latin-1')"
   ]
  },
  {
   "cell_type": "code",
   "execution_count": 4,
   "id": "criminal-victim",
   "metadata": {},
   "outputs": [],
   "source": [
    "df_1629_1[\"CASEID\"] = df_1629_1['HHID'].astype(str) +\" \"+ df_1629_1[\"HVIDX\"].astype(str)\n",
    "df_1629_2[\"CASEID\"] = df_1629_2['HHID'].astype(str) +\" \"+ df_1629_2[\"IDXH4\"].astype(str)\n",
    "df2=  df_1629_2[[\"CASEID\",\"SH11A\",\"SH11B\",\"SH11C\",\"SH11D\",\"SH11E\",\"SH11Y\",\"SH11Z\",\"SH15N\"]]\n",
    "df1= df_1629_1[[\"CASEID\",\"HHID\",\"QH25A\", \"HV107\",\"HV106\"]]\n",
    "df3= df_1630[[\"HHID\",\"HV201\",\"HV202\",\"HV205\",\"HV206\",\"HV207\",\"HV208\",\"HV209\",\"HV213\",\"HV214\",\"HV215\",\"HV219\",\"HV221\",\"HV243A\",\"SHREGION\",\"SH42\",\"SH61K\",\"SH61L\",\"SH61M\",\"SH61N\",\"SH61O\",\"SH61P\",\"SH61Q\",\"SH61R\",\"SH61S\"]]\n",
    "df_dit= df_DIT[[\"CASEID\",\"QI478\"]]\n",
    "df_anemia_r= df_anemia[[\"CASEID\",\"V457\"]]"
   ]
  },
  {
   "cell_type": "code",
   "execution_count": 5,
   "id": "operating-integrity",
   "metadata": {},
   "outputs": [],
   "source": [
    "df_merge1= dd.merge(df1, df2, on=\"CASEID\")\n",
    "df_merge2 = dd.merge(df_merge1,df3, on=\"HHID\")\n",
    "df_merge3= dd.merge(df_merge2,df_dit, on=\"CASEID\")\n",
    "df_merge4= dd.merge(df_anemia_r,df_merge3, on=\"CASEID\")"
   ]
  },
  {
   "cell_type": "code",
   "execution_count": 6,
   "id": "canadian-capacity",
   "metadata": {},
   "outputs": [],
   "source": [
    "df_final = df_merge4"
   ]
  },
  {
   "cell_type": "code",
   "execution_count": 7,
   "id": "average-pastor",
   "metadata": {},
   "outputs": [],
   "source": [
    "def f(x):\n",
    "    if x < 4:\n",
    "         y= 1\n",
    "    elif x > 3 :\n",
    "         y= 0\n",
    "\n",
    "    return y\n",
    "def a(x):\n",
    "    if x == 1:\n",
    "         y= 1\n",
    "    else:\n",
    "         y= 0\n",
    "\n",
    "    return y\n",
    "def b(x):\n",
    "    if x == 2:\n",
    "         y= 1\n",
    "    else:\n",
    "         y= 0\n",
    "\n",
    "    return y\n",
    "def c(x):\n",
    "    if x == 3:\n",
    "         y= 1\n",
    "    else:\n",
    "         y= 0\n",
    "\n",
    "    return y\n",
    "def d(x):\n",
    "    if x == 4:\n",
    "         y= 1\n",
    "    else:\n",
    "         y= 0\n",
    "\n",
    "    return y"
   ]
  },
  {
   "cell_type": "code",
   "execution_count": 8,
   "id": "surprised-algebra",
   "metadata": {},
   "outputs": [
    {
     "name": "stderr",
     "output_type": "stream",
     "text": [
      "C:\\Users\\User\\anaconda3\\envs\\tensor\\lib\\site-packages\\dask\\dataframe\\core.py:3370: UserWarning: \n",
      "You did not provide metadata, so Dask is running your function on a small dataset to guess output types. It is possible that Dask will guess incorrectly.\n",
      "To provide an explicit output types or to silence this message, please provide the `meta=` keyword, as described in the map or apply function that you are using.\n",
      "  Before: .apply(func)\n",
      "  After:  .apply(func, meta=('V457', 'int64'))\n",
      "\n",
      "  warnings.warn(meta_warning(meta))\n"
     ]
    }
   ],
   "source": [
    "dff = df_final.assign(anemia = df_final.V457.apply(f))"
   ]
  },
  {
   "cell_type": "code",
   "execution_count": 9,
   "id": "acquired-ideal",
   "metadata": {},
   "outputs": [
    {
     "name": "stderr",
     "output_type": "stream",
     "text": [
      "C:\\Users\\User\\anaconda3\\envs\\tensor\\lib\\site-packages\\dask\\dataframe\\core.py:3370: UserWarning: \n",
      "You did not provide metadata, so Dask is running your function on a small dataset to guess output types. It is possible that Dask will guess incorrectly.\n",
      "To provide an explicit output types or to silence this message, please provide the `meta=` keyword, as described in the map or apply function that you are using.\n",
      "  Before: .apply(func)\n",
      "  After:  .apply(func, meta=('SHREGION', 'int64'))\n",
      "\n",
      "  warnings.warn(meta_warning(meta))\n"
     ]
    }
   ],
   "source": [
    "\n",
    "df_final = dff.assign(lima_metropolitana = dff.SHREGION.apply(a))\n",
    "df_final = df_final.assign(resto_costa = df_final.SHREGION.apply(b))\n",
    "df_final = df_final.assign(sierra = df_final.SHREGION.apply(c))\n",
    "df_final = df_final.assign(selva = df_final.SHREGION.apply(d))\n"
   ]
  },
  {
   "cell_type": "code",
   "execution_count": 10,
   "id": "controlling-skirt",
   "metadata": {},
   "outputs": [],
   "source": [
    "df_final = df_final.drop(['CASEID', 'HHID', 'QH25A','V457'], axis=1)"
   ]
  },
  {
   "cell_type": "code",
   "execution_count": 11,
   "id": "stretch-multimedia",
   "metadata": {},
   "outputs": [],
   "source": [
    "import numpy as np\n",
    "data_new = df_final.replace(' ', float('NaN'), regex = True)\n",
    "data_new=data_new.replace(np.nan, 0)"
   ]
  },
  {
   "cell_type": "code",
   "execution_count": 12,
   "id": "standing-navigator",
   "metadata": {},
   "outputs": [
    {
     "name": "stderr",
     "output_type": "stream",
     "text": [
      "C:\\Users\\User\\anaconda3\\envs\\tensor\\lib\\site-packages\\dask\\core.py:121: DtypeWarning: Columns (5) have mixed types.Specify dtype option on import or set low_memory=False.\n",
      "  return func(*(_execute_task(a, cache) for a in args))\n"
     ]
    },
    {
     "data": {
      "text/html": [
       "<div>\n",
       "<style scoped>\n",
       "    .dataframe tbody tr th:only-of-type {\n",
       "        vertical-align: middle;\n",
       "    }\n",
       "\n",
       "    .dataframe tbody tr th {\n",
       "        vertical-align: top;\n",
       "    }\n",
       "\n",
       "    .dataframe thead th {\n",
       "        text-align: right;\n",
       "    }\n",
       "</style>\n",
       "<table border=\"1\" class=\"dataframe\">\n",
       "  <thead>\n",
       "    <tr style=\"text-align: right;\">\n",
       "      <th></th>\n",
       "      <th>HV107</th>\n",
       "      <th>HV106</th>\n",
       "      <th>SH11A</th>\n",
       "      <th>SH11B</th>\n",
       "      <th>SH11C</th>\n",
       "      <th>SH11D</th>\n",
       "      <th>SH11E</th>\n",
       "      <th>SH11Y</th>\n",
       "      <th>SH11Z</th>\n",
       "      <th>SH15N</th>\n",
       "      <th>...</th>\n",
       "      <th>SH61P</th>\n",
       "      <th>SH61Q</th>\n",
       "      <th>SH61R</th>\n",
       "      <th>SH61S</th>\n",
       "      <th>QI478</th>\n",
       "      <th>anemia</th>\n",
       "      <th>lima_metropolitana</th>\n",
       "      <th>resto_costa</th>\n",
       "      <th>sierra</th>\n",
       "      <th>selva</th>\n",
       "    </tr>\n",
       "  </thead>\n",
       "  <tbody>\n",
       "    <tr>\n",
       "      <th>0</th>\n",
       "      <td>3</td>\n",
       "      <td>3</td>\n",
       "      <td>1</td>\n",
       "      <td>0</td>\n",
       "      <td>0</td>\n",
       "      <td>0</td>\n",
       "      <td>0</td>\n",
       "      <td>0</td>\n",
       "      <td>0</td>\n",
       "      <td>3</td>\n",
       "      <td>...</td>\n",
       "      <td>0</td>\n",
       "      <td>0</td>\n",
       "      <td>0</td>\n",
       "      <td>0</td>\n",
       "      <td>15</td>\n",
       "      <td>1</td>\n",
       "      <td>0</td>\n",
       "      <td>0</td>\n",
       "      <td>1</td>\n",
       "      <td>0</td>\n",
       "    </tr>\n",
       "    <tr>\n",
       "      <th>1</th>\n",
       "      <td>0</td>\n",
       "      <td>0</td>\n",
       "      <td>0</td>\n",
       "      <td>0</td>\n",
       "      <td>1</td>\n",
       "      <td>0</td>\n",
       "      <td>0</td>\n",
       "      <td>0</td>\n",
       "      <td>0</td>\n",
       "      <td>0</td>\n",
       "      <td>...</td>\n",
       "      <td>0</td>\n",
       "      <td>0</td>\n",
       "      <td>0</td>\n",
       "      <td>0</td>\n",
       "      <td>22</td>\n",
       "      <td>1</td>\n",
       "      <td>0</td>\n",
       "      <td>0</td>\n",
       "      <td>1</td>\n",
       "      <td>0</td>\n",
       "    </tr>\n",
       "    <tr>\n",
       "      <th>2</th>\n",
       "      <td>5</td>\n",
       "      <td>3</td>\n",
       "      <td>0</td>\n",
       "      <td>0</td>\n",
       "      <td>1</td>\n",
       "      <td>0</td>\n",
       "      <td>0</td>\n",
       "      <td>0</td>\n",
       "      <td>0</td>\n",
       "      <td>3</td>\n",
       "      <td>...</td>\n",
       "      <td>0</td>\n",
       "      <td>1</td>\n",
       "      <td>0</td>\n",
       "      <td>0</td>\n",
       "      <td>64</td>\n",
       "      <td>0</td>\n",
       "      <td>0</td>\n",
       "      <td>0</td>\n",
       "      <td>1</td>\n",
       "      <td>0</td>\n",
       "    </tr>\n",
       "    <tr>\n",
       "      <th>3</th>\n",
       "      <td>5</td>\n",
       "      <td>3</td>\n",
       "      <td>0</td>\n",
       "      <td>0</td>\n",
       "      <td>1</td>\n",
       "      <td>0</td>\n",
       "      <td>0</td>\n",
       "      <td>0</td>\n",
       "      <td>0</td>\n",
       "      <td>3</td>\n",
       "      <td>...</td>\n",
       "      <td>0</td>\n",
       "      <td>1</td>\n",
       "      <td>0</td>\n",
       "      <td>0</td>\n",
       "      <td>18</td>\n",
       "      <td>0</td>\n",
       "      <td>0</td>\n",
       "      <td>0</td>\n",
       "      <td>1</td>\n",
       "      <td>0</td>\n",
       "    </tr>\n",
       "    <tr>\n",
       "      <th>4</th>\n",
       "      <td>5</td>\n",
       "      <td>3</td>\n",
       "      <td>1</td>\n",
       "      <td>0</td>\n",
       "      <td>0</td>\n",
       "      <td>0</td>\n",
       "      <td>0</td>\n",
       "      <td>0</td>\n",
       "      <td>0</td>\n",
       "      <td>3</td>\n",
       "      <td>...</td>\n",
       "      <td>1</td>\n",
       "      <td>1</td>\n",
       "      <td>0</td>\n",
       "      <td>0</td>\n",
       "      <td>41</td>\n",
       "      <td>0</td>\n",
       "      <td>0</td>\n",
       "      <td>0</td>\n",
       "      <td>1</td>\n",
       "      <td>0</td>\n",
       "    </tr>\n",
       "  </tbody>\n",
       "</table>\n",
       "<p>5 rows × 40 columns</p>\n",
       "</div>"
      ],
      "text/plain": [
       "  HV107  HV106  SH11A  SH11B  SH11C  SH11D  SH11E  SH11Y  SH11Z SH15N  ...  \\\n",
       "0     3      3      1      0      0      0      0      0      0     3  ...   \n",
       "1     0      0      0      0      1      0      0      0      0     0  ...   \n",
       "2     5      3      0      0      1      0      0      0      0     3  ...   \n",
       "3     5      3      0      0      1      0      0      0      0     3  ...   \n",
       "4     5      3      1      0      0      0      0      0      0     3  ...   \n",
       "\n",
       "  SH61P SH61Q SH61R SH61S QI478 anemia lima_metropolitana resto_costa sierra  \\\n",
       "0     0     0     0     0    15      1                  0           0      1   \n",
       "1     0     0     0     0    22      1                  0           0      1   \n",
       "2     0     1     0     0    64      0                  0           0      1   \n",
       "3     0     1     0     0    18      0                  0           0      1   \n",
       "4     1     1     0     0    41      0                  0           0      1   \n",
       "\n",
       "  selva  \n",
       "0     0  \n",
       "1     0  \n",
       "2     0  \n",
       "3     0  \n",
       "4     0  \n",
       "\n",
       "[5 rows x 40 columns]"
      ]
     },
     "execution_count": 12,
     "metadata": {},
     "output_type": "execute_result"
    }
   ],
   "source": [
    "data_new.head()"
   ]
  },
  {
   "cell_type": "code",
   "execution_count": null,
   "id": "serious-newfoundland",
   "metadata": {},
   "outputs": [],
   "source": [
    "#Estatistics"
   ]
  },
  {
   "cell_type": "code",
   "execution_count": 17,
   "id": "junior-stuff",
   "metadata": {},
   "outputs": [],
   "source": [
    "import matplotlib.pyplot as plt\n",
    "import numpy as np\n",
    "import pandas as pd"
   ]
  },
  {
   "cell_type": "code",
   "execution_count": 24,
   "id": "controlled-whale",
   "metadata": {},
   "outputs": [
    {
     "name": "stderr",
     "output_type": "stream",
     "text": [
      "C:\\Users\\User\\anaconda3\\envs\\tensor\\lib\\site-packages\\dask\\core.py:121: DtypeWarning: Columns (5) have mixed types.Specify dtype option on import or set low_memory=False.\n",
      "  return func(*(_execute_task(a, cache) for a in args))\n"
     ]
    }
   ],
   "source": [
    "#TO PANDAS\n",
    "pandas_df = data_new.compute()\n",
    "#pandas_df"
   ]
  },
  {
   "cell_type": "code",
   "execution_count": 25,
   "id": "civilian-blanket",
   "metadata": {},
   "outputs": [],
   "source": [
    "positivo= pandas_df.loc[pandas_df['anemia']==1].count()[0]\n",
    "negativo= pandas_df.loc[pandas_df['anemia']==0].count()[0]"
   ]
  },
  {
   "cell_type": "code",
   "execution_count": 82,
   "id": "tired-tomato",
   "metadata": {},
   "outputs": [],
   "source": [
    "positivo= pandas_df.loc[pandas_df['anemia']==1]\n",
    "#positivo"
   ]
  },
  {
   "cell_type": "code",
   "execution_count": 79,
   "id": "extraordinary-transport",
   "metadata": {},
   "outputs": [
    {
     "name": "stderr",
     "output_type": "stream",
     "text": [
      "C:\\Users\\User\\anaconda3\\envs\\tensor\\lib\\site-packages\\dask\\core.py:121: DtypeWarning: Columns (5) have mixed types.Specify dtype option on import or set low_memory=False.\n",
      "  return func(*(_execute_task(a, cache) for a in args))\n"
     ]
    },
    {
     "data": {
      "text/html": [
       "<div>\n",
       "<style scoped>\n",
       "    .dataframe tbody tr th:only-of-type {\n",
       "        vertical-align: middle;\n",
       "    }\n",
       "\n",
       "    .dataframe tbody tr th {\n",
       "        vertical-align: top;\n",
       "    }\n",
       "\n",
       "    .dataframe thead th {\n",
       "        text-align: right;\n",
       "    }\n",
       "</style>\n",
       "<table border=\"1\" class=\"dataframe\">\n",
       "  <thead>\n",
       "    <tr style=\"text-align: right;\">\n",
       "      <th></th>\n",
       "      <th>lima_metropolitana</th>\n",
       "      <th>resto_costa</th>\n",
       "      <th>sierra</th>\n",
       "      <th>selva</th>\n",
       "    </tr>\n",
       "    <tr>\n",
       "      <th>anemia</th>\n",
       "      <th></th>\n",
       "      <th></th>\n",
       "      <th></th>\n",
       "      <th></th>\n",
       "    </tr>\n",
       "  </thead>\n",
       "  <tbody>\n",
       "    <tr>\n",
       "      <th>0</th>\n",
       "      <td>17701</td>\n",
       "      <td>17701</td>\n",
       "      <td>17701</td>\n",
       "      <td>17701</td>\n",
       "    </tr>\n",
       "    <tr>\n",
       "      <th>1</th>\n",
       "      <td>4268</td>\n",
       "      <td>4268</td>\n",
       "      <td>4268</td>\n",
       "      <td>4268</td>\n",
       "    </tr>\n",
       "  </tbody>\n",
       "</table>\n",
       "</div>"
      ],
      "text/plain": [
       "        lima_metropolitana  resto_costa  sierra  selva\n",
       "anemia                                                \n",
       "0                    17701        17701   17701  17701\n",
       "1                     4268         4268    4268   4268"
      ]
     },
     "execution_count": 79,
     "metadata": {},
     "output_type": "execute_result"
    }
   ],
   "source": [
    "#Cantidad casos por region\n",
    "data=data_new.groupby('anemia').count().compute()\n",
    "data=data[[\"lima_metropolitana\",\"resto_costa\",\"sierra\",\"selva\"]]\n",
    "data"
   ]
  },
  {
   "cell_type": "code",
   "execution_count": 80,
   "id": "built-savannah",
   "metadata": {},
   "outputs": [
    {
     "name": "stderr",
     "output_type": "stream",
     "text": [
      "C:\\Users\\User\\anaconda3\\envs\\tensor\\lib\\site-packages\\dask\\core.py:121: DtypeWarning: Columns (5) have mixed types.Specify dtype option on import or set low_memory=False.\n",
      "  return func(*(_execute_task(a, cache) for a in args))\n",
      "C:\\Users\\User\\anaconda3\\envs\\tensor\\lib\\site-packages\\dask\\core.py:121: DtypeWarning: Columns (5) have mixed types.Specify dtype option on import or set low_memory=False.\n",
      "  return func(*(_execute_task(a, cache) for a in args))\n"
     ]
    }
   ],
   "source": [
    "df_g1= data_new.groupby('SHREGION').sum().compute().reset_index()\n",
    "df_g2= data_new.groupby('SHREGION').count().compute().reset_index()\n",
    "df_g1=df_g1[[\"SHREGION\",\"anemia\"]]\n",
    "df_g1.columns = df_g1.columns.str.replace('anemia', 'anemia_positivos')\n",
    "df_g2=df_g2[[\"SHREGION\",\"anemia\"]]\n"
   ]
  },
  {
   "cell_type": "code",
   "execution_count": 81,
   "id": "korean-effectiveness",
   "metadata": {},
   "outputs": [],
   "source": [
    "merge= pd.merge(df_g1, df_g2, on=\"SHREGION\")\n",
    "#merge"
   ]
  },
  {
   "cell_type": "code",
   "execution_count": 71,
   "id": "existing-azerbaijan",
   "metadata": {},
   "outputs": [],
   "source": [
    "#w=0.1\n",
    "x = ['Lima','Resto de Costa', 'Sierra', 'Selva']\n",
    "\n",
    "\n",
    "#plt.bar(merge.SHREGION,merge.anemia,label=\"totales\")\n",
    "bar1 = np.arange(len(x))\n",
    "\n",
    "#bar2 = [i+w for i in bar1]\n",
    "\n",
    "#plt.bar(merge.SHREGION,merge.anemia_positivos,label=\"positivos\")\n",
    "\n"
   ]
  },
  {
   "cell_type": "code",
   "execution_count": 75,
   "id": "finished-deputy",
   "metadata": {},
   "outputs": [
    {
     "data": {
      "text/plain": [
       "Text(0, 0.5, 'Cantidad')"
      ]
     },
     "execution_count": 75,
     "metadata": {},
     "output_type": "execute_result"
    },
    {
     "data": {
      "image/png": "[encoded data removed]",
      "text/plain": [
       "<Figure size 432x288 with 1 Axes>"
      ]
     },
     "metadata": {},
     "output_type": "display_data"
    }
   ],
   "source": [
    "plt.bar(x, merge.anemia_positivos)\n",
    "plt.title(\"Casos positivos por region\")\n",
    "plt.xlabel('Regiones', fontweight='bold', color = 'orange', fontsize='18')\n",
    "plt.ylabel('Cantidad', fontweight='bold', color = 'orange', fontsize='18')\n",
    " "
   ]
  },
  {
   "cell_type": "code",
   "execution_count": 74,
   "id": "passive-emperor",
   "metadata": {},
   "outputs": [
    {
     "data": {
      "text/plain": [
       "Text(0.5, 1.0, 'Incidencia de Anemia, Perú')"
      ]
     },
     "execution_count": 74,
     "metadata": {},
     "output_type": "execute_result"
    },
    {
     "data": {
      "image/png": "[encoded data removed]",
      "text/plain": [
       "<Figure size 432x288 with 1 Axes>"
      ]
     },
     "metadata": {},
     "output_type": "display_data"
    }
   ],
   "source": [
    "#Incidencia de Anemia\n",
    "positivo= pandas_df.loc[pandas_df['anemia']==1].count()[0]\n",
    "negativo= pandas_df.loc[pandas_df['anemia']==0].count()[0]\n",
    "\n",
    "plt.style.use(\"ggplot\")\n",
    "labels = ['positivo','negativo']\n",
    "colors = ['#abcdef','#aabbcc']\n",
    "plt.pie([positivo,negativo], labels=labels, colors=colors, autopct='%.2f %%')\n",
    "\n",
    "plt.title('Incidencia de Anemia, Perú')"
   ]
  },
  {
   "cell_type": "code",
   "execution_count": null,
   "id": "white-sympathy",
   "metadata": {},
   "outputs": [],
   "source": []
  },
  {
   "cell_type": "code",
   "execution_count": null,
   "id": "conventional-peter",
   "metadata": {},
   "outputs": [],
   "source": []
  },
  {
   "cell_type": "markdown",
   "id": "02fa40d3",
   "metadata": {},
   "source": [
    "#### b. Implementación de Machine Learning"
   ]
  },
  {
   "cell_type": "markdown",
   "id": "9af8d5d1",
   "metadata": {},
   "source": [
    "%pip install -U tornado\n",
    "%pip install \"dask[complete]\"\n",
    "!python -m pip install dask[dataframe] --upgrade\n",
    "!conda install python-graphviz\n",
    "%pip install dask-ml\n",
    "%pip install bokeh\n",
    "%pip install dask-xgboost"
   ]
  },
  {
   "cell_type": "markdown",
   "id": "eff36a2f",
   "metadata": {},
   "source": [
    "!pip install dask-cuda"
   ]
  },
  {
   "cell_type": "code",
   "execution_count": 1,
   "id": "cff27527",
   "metadata": {},
   "outputs": [],
   "source": [
    "import dask.dataframe as dd\n",
    "from dask_ml.model_selection import train_test_split\n",
    "from dask_ml.model_selection import GridSearchCV\n",
    "import numpy as np\n",
    "from dask.distributed import Client, progress\n",
    "from sklearn.ensemble import RandomForestClassifier\n",
    "from sklearn.metrics import roc_curve\n",
    "from sklearn.metrics import roc_auc_score\n",
    "from sklearn.metrics import confusion_matrix\n",
    "import matplotlib.pyplot\n",
    "from sklearn.model_selection import RepeatedKFold\n",
    "from dask_cuda import LocalCUDACluster\n",
    "from dask.utils import parse_bytes"
   ]
  },
  {
   "cell_type": "code",
   "execution_count": 2,
   "id": "fc1cefbd",
   "metadata": {},
   "outputs": [
    {
     "data": {
      "text/html": [
       "<table style=\"border: 2px solid white;\">\n",
       "<tr>\n",
       "<td style=\"vertical-align: top; border: 0px solid white\">\n",
       "<h3 style=\"text-align: left;\">Client</h3>\n",
       "<ul style=\"text-align: left; list-style: none; margin: 0; padding: 0;\">\n",
       "  <li><b>Scheduler: </b>tcp://127.0.0.1:63850</li>\n",
       "  <li><b>Dashboard: </b><a href='http://127.0.0.1:8787/status' target='_blank'>http://127.0.0.1:8787/status</a></li>\n",
       "</ul>\n",
       "</td>\n",
       "<td style=\"vertical-align: top; border: 0px solid white\">\n",
       "<h3 style=\"text-align: left;\">Cluster</h3>\n",
       "<ul style=\"text-align: left; list-style:none; margin: 0; padding: 0;\">\n",
       "  <li><b>Workers: </b>5</li>\n",
       "  <li><b>Cores: </b>20</li>\n",
       "  <li><b>Memory: </b>34.09 GB</li>\n",
       "</ul>\n",
       "</td>\n",
       "</tr>\n",
       "</table>"
      ],
      "text/plain": [
       "<Client: 'tcp://127.0.0.1:63850' processes=5 threads=20, memory=34.09 GB>"
      ]
     },
     "execution_count": 2,
     "metadata": {},
     "output_type": "execute_result"
    }
   ],
   "source": [
    "client = Client()\n",
    "client"
   ]
  },
  {
   "cell_type": "code",
   "execution_count": 10,
   "id": "afb55f98",
   "metadata": {},
   "outputs": [],
   "source": [
    "data = dd.read_csv('base_anemia_final.csv', storage_options={'anon': True})"
   ]
  },
  {
   "cell_type": "code",
   "execution_count": 11,
   "id": "47371477",
   "metadata": {},
   "outputs": [],
   "source": [
    "X = data.drop('anemia', axis=1)\n",
    "y = data['anemia']\n",
    "X_train, X_test, y_train, y_test = train_test_split(X, y, test_size=0.2, random_state=143, shuffle=True)"
   ]
  },
  {
   "cell_type": "code",
   "execution_count": 12,
   "id": "33a69710",
   "metadata": {},
   "outputs": [],
   "source": [
    "model = RandomForestClassifier()\n",
    "params = {\n",
    "    'max_depth':[1, 3, 5, 7, 9],\n",
    "    'n_estimators':np.arange(50, 500, 50),\n",
    "    'max_features':['sqrt', 'log2', None]\n",
    "}"
   ]
  },
  {
   "cell_type": "code",
   "execution_count": 6,
   "id": "ccb33b3a",
   "metadata": {},
   "outputs": [
    {
     "name": "stdout",
     "output_type": "stream",
     "text": [
      "Best: 0.803729 using {'max_depth': 9, 'max_features': None, 'n_estimators': 200}\n"
     ]
    }
   ],
   "source": [
    "cv = RepeatedKFold(n_splits=10, n_repeats=3, random_state=1)\n",
    "search = GridSearchCV(model, params, cv = cv)\n",
    "result = search.fit(X_train, y_train)\n",
    "print(\"Best: %f using %s\" % (result.best_score_, result.best_params_))"
   ]
  },
  {
   "cell_type": "code",
   "execution_count": 7,
   "id": "84de0314",
   "metadata": {},
   "outputs": [
    {
     "name": "stdout",
     "output_type": "stream",
     "text": [
      "Accuracy Test Dataset [0.8019914007694049]\n",
      "Accuracy Train Dataset [0.8159702013735305]\n"
     ]
    }
   ],
   "source": [
    "acc_test = [result.score(X_test, y_test)]\n",
    "acc_train = [result.score(X_train, y_train)]\n",
    "print('Accuracy Test Dataset',acc_test)\n",
    "print('Accuracy Train Dataset',acc_train)"
   ]
  },
  {
   "cell_type": "code",
   "execution_count": 8,
   "id": "bb148450",
   "metadata": {},
   "outputs": [
    {
     "name": "stdout",
     "output_type": "stream",
     "text": [
      "AUC Score: 0.5671536386137346\n"
     ]
    }
   ],
   "source": [
    "probs = result.predict_proba(X_test)\n",
    "probs = probs[:,1]\n",
    "acc_auc = roc_auc_score(y_test, probs)\n",
    "print('AUC Score:', acc_auc)\n",
    "fpr, tpr, thresh = roc_curve(y_test, probs)"
   ]
  },
  {
   "cell_type": "code",
   "execution_count": 9,
   "id": "e6d4d7e0",
   "metadata": {},
   "outputs": [
    {
     "data": {
      "image/png": "[encoded data removed]",
      "text/plain": [
       "<Figure size 432x288 with 1 Axes>"
      ]
     },
     "metadata": {
      "needs_background": "light"
     },
     "output_type": "display_data"
    }
   ],
   "source": [
    "matplotlib.pyplot.xlabel(\"False Positive Rate\")\n",
    "matplotlib.pyplot.ylabel(\"True Positive Rate\")\n",
    "matplotlib.pyplot.plot([0,1], [0,1], 'r--')\n",
    "matplotlib.pyplot.xlim([-0.05, 1.05])\n",
    "matplotlib.pyplot.ylim([-0.05, 1.05])\n",
    "matplotlib.pyplot.title(\" Gráfico 2: Curva ROC - Modelo de Comportamiento\")\n",
    "matplotlib.pyplot.plot(fpr, tpr, label = \"Random Forest Model\", color = \"black\")\n",
    "matplotlib.pyplot.legend(loc = \"lower right\")\n",
    "matplotlib.pyplot.show()"
   ]
  },
  {
   "cell_type": "markdown",
   "id": "0677265e",
   "metadata": {},
   "source": [
    "### Bibliografía"
   ]
  },
  {
   "cell_type": "markdown",
   "id": "cc4d7a11",
   "metadata": {},
   "source": [
    "Bello-Manga, H., Galadanci, A. A., Abdullahi, S., Ali, S., Jibir, B., Gambo, S., Haliru, L., Jordan, L. C., Aliyu, M. H., Rodeghier, M., Kassim, A. A., DeBaun, M. R., & Galadanci, N. A. (2020). Low educational level of head of household, as a proxy for poverty, is associated with severe anaemia among children with sickle cell disease living in a low-resource setting: Evidence from the SPRING trial. British Journal of Haematology, 190(6), 939–944. https://doi.org/10.1111/bjh.16746\n",
    "\n",
    "Couper, M. P. (s/f). Is the Sky Falling? New Technology, Changing Media, and the Future of Surveys. 12.\n",
    "\n",
    "Ford, N., Bichha, R. P., Parajuli, K., Paudyal, N., Joshi, N., Whitehead, R., Chitekwe, S., Mei, Z., Flores-Ayala, R., Adhikari, D., Rijal, S., & Jefferds, M. (2020). Factors associated with anaemia among adolescent boys and girls 10–19 years old in Nepal. Maternal & child nutrition. https://doi.org/10.1111/mcn.13013\n",
    "\n",
    "Ford, N. D., Bichha, R. P., Parajuli, K. R., Paudyal, N., Joshi, N., Whitehead Jr, R. D., Chitekwe, S., Mei, Z., Flores-Ayala, R., Adhikari, D. P., Rijal, S., & Jefferds, M. E. (2022). Factors associated with anaemia in a nationally representative sample of nonpregnant women of reproductive age in Nepal. Maternal & Child Nutrition, 18(S1), e12953. https://doi.org/10.1111/mcn.12953\n",
    "\n",
    "Kikafunda, J., Lukwago, F. B., & Turyashemererwa, F. (2009). Anaemia and associated factors among under-fives and their mothers in Bushenyi district, Western Uganda. Public Health Nutrition. https://doi.org/10.1017/S1368980009005333\n",
    "\n",
    "Palacios-Rodríguez, G. O., Mundo-Rosas, V., Parra-Cabrera, S., García-Guerra, A., Galindo-Gómez, C., & Gómez-Humaran, I. M. (2019). Household food insecurity and its association with anaemia in Mexican children: National Health and Nutrition Survey 2012. International Journal of Public Health. https://doi.org/10.1007/s00038-019-01305-1\n",
    "\n",
    "Prieto-Patron, A., Van der Horst, K., Hutton, Z., & Detzel, P. (2018). Association between Anaemia in Children 6 to 23 Months Old and Child, Mother, Household and Feeding Indicators. Nutrients, 10(9), 1269. https://doi.org/10.3390/nu10091269\n",
    "\n",
    "Strickland, E. (2022, febrero 9). Andrew Ng: Unbiggen AI. IEEE Spectrum. https://spectrum.ieee.org/andrew-ng-data-centric-ai"
   ]
  }
 ],
 "metadata": {
  "kernelspec": {
   "display_name": "Python 3",
   "language": "python",
   "name": "python3"
  },
  "language_info": {
   "codemirror_mode": {
    "name": "ipython",
    "version": 3
   },
   "file_extension": ".py",
   "mimetype": "text/x-python",
   "name": "python",
   "nbconvert_exporter": "python",
   "pygments_lexer": "ipython3",
   "version": "3.6.12"
  }
 },
 "nbformat": 4,
 "nbformat_minor": 5
}
